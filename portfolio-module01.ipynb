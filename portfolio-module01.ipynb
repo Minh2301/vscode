{
 "cells": [
  {
   "cell_type": "markdown",
   "metadata": {},
   "source": [
    "<center>\n",
    "\n",
    "# COSC3056 Programming Studio 1 Portfolio <a id='top'></a>\n",
    "# Module 1: Product Ideation and User Centred Design\n",
    "\n",
    "</center>"
   ]
  },
  {
   "cell_type": "markdown",
   "metadata": {
    "tags": [
     "q0;shorttext;0"
    ]
   },
   "source": [
    "This portfolio is created by\n",
    "\n",
    "| Name | Pham Nhat Minh |\n",
    "|---|---|\n",
    "| Student Id | s4019811 |\n",
    "| Semester | Semester 3 2023 |"
   ]
  },
  {
   "cell_type": "markdown",
   "metadata": {},
   "source": [
    "### Declaration and Statement of Authorship\n",
    "\n",
    "When you submit your work electronically for studio components, you must agree to the [RMIT assessment declaration](https://www.rmit.edu.au/students/my-course/assessment-results/assessment) below.\n",
    "\n",
    "1. I/we have not impersonated, or allowed myself to be impersonated by, any person for the purposes of this assessment.\n",
    "2. This assessment is my/our original work and no part of it has been copied from any other source except where due acknowledgement\n",
    "is made.\n",
    "3. No part of this assessment has been written for me/us by any other person except where such collaboration has been authorised\n",
    "by the lecturer/teacher concerned.\n",
    "4. Where this work is being submitted for individual assessment, I declare that it is my original work and that no part has been contributed\n",
    "by, produced by or in conjunction with another student.\n",
    "5. I/we give permission for my assessment response to be reproduced, communicated compared and archived for the purposes\n",
    "of detecting plagiarism.\n",
    "6. I/we give permission for a copy of my assessment to be retained by the university for review and comparison, including review by external examiners.\n",
    "7. I/we understand that:\n",
    "    - Plagiarism is the presentation of the work, idea or creation of another person as though it is your own. It is a form of cheating and is a very serious academic offence that may lead to exclusion from the University. Plagiarised material can be drawn from, and presented in, written, graphic and visual form, including electronic data and oral presentations. Plagiarism occurs when the origin of the material used is not appropriately cited.\n",
    "    - Plagiarism includes the act of assisting or allowing another person to plagiarise or to copy my work.\n",
    "    \n",
    "    \n",
    "I/we agree and acknowledge that:\n",
    "1. I/we have read and understood the Declaration and Statement of Authorship above.\n",
    "2. If I/we do not agree to the Declaration and Statement of Authorship in this context and a signature is not included below, the assessment outcome is not valid for assessment purposes and will not be included in my final result for this course.\n",
    "\n",
    "Visit the student essentials Academic Integrity page for more information on [academic integrity at RMIT](https://www.rmit.edu.au/students/my-course/assessment-results/academic-integrity), including your responsibilities,\n",
    "breaches and penalties for academic misconduct.\n",
    "\n",
    "\n",
    "### Student Signature\n",
    "\"_I/we declare that I/we have read and understood the above Declaration and Statement of Authorship._\"\n",
    "\n",
    "You must write your full name and student ID in the table in the markdown cell at the top of this portfolio.<br>\n",
    "**Failure to do so may result in a grade penalty or a grade of zero.**"
   ]
  },
  {
   "attachments": {},
   "cell_type": "markdown",
   "metadata": {},
   "source": [
    "<style>\n",
    "blockquote {\n",
    "  border: 3px dashed #00DCB4;\n",
    "  padding: 10px;\n",
    "}\n",
    "</style>\n",
    "\n",
    "> ## Instructions & Information\n",
    "> This notebook template has been provided to get you started on your portolfio. It is also structured for the automated marking tool SageGrader.\n",
    "> Therefore, we require that you use and edit the notebook correctly.\n",
    "> \n",
    "> ### How to use this Notebook for your Portfolio\n",
    "> To use your notebook, we kindly ask that:\n",
    "> 1. Place your answer to the question in the **existing** answer block, by double-clicking on the block you wish to edit.\n",
    "> 1. You **must not** delete any existing cells in this notebook and you **must not** modify any existing cell tags. If you accidentally delete a cell, you will need to ``undo'' the change, such using the  \"Edit → Undo\" VSCode menu option.\n",
    "> 1. In general, answer cells will have denoted placeholder content with dummy values, such as comments like *`my answer'*.\n",
    "> 1. You **must not** change any text in an existing cell that is **outside** of block to place your answers.\n",
    "> 1. To add images to this notebook you **must embedd the image** into the notebook. To do this:\n",
    ">     1. Find the image on your computer (Windows: File Explorer, Mac: Finder). Note the image can't have spaces in the filename\n",
    ">     1. \"Copy\" the image (Right-click on the image → Copy)\n",
    ">     1. \"Paste\" the image into the cell below (Double click to edit the cell → Right-click → Paste)\n",
    ">     1. If this is done correctly, you should see something of the form ``![image-name.png](attachment:image-name.png)``\n",
    ">     1. Please make sure to press the tick '✔️' on the cell containing the image to ensure the attachment is added\n",
    "> 1. Please see Canvas for additional assessment instructions. \n",
    ">\n",
    "> ### How to use Markdown syntax\n",
    "> This notebook uses the markdown syntax for formatting. For help on using Markdown, IBM has a good [Markdown Cheat-sheet](https://www.ibm.com/docs/en/watson-studio-local/1.2.3?topic=notebooks-markdown-jupyter-cheatsheet)."
   ]
  },
  {
   "cell_type": "markdown",
   "metadata": {},
   "source": [
    "<style>\n",
    "h2 {\n",
    "   text-align: center;\n",
    "}\n",
    "hr {\n",
    "  border: none;\n",
    "  border-top: 6px ridge #C864C8;\n",
    "}\n",
    "</style>\n",
    "___\n",
    "\n",
    "## Studio Class 1: Product Ideation\n",
    "\n",
    "### Preparation Activities"
   ]
  },
  {
   "cell_type": "markdown",
   "metadata": {},
   "source": [
    "**Question 1:** <a id=\"q-sc1-q1\"></a>\n",
    "\n",
    "What is the purpose of the SEEK product?\n",
    "https://www.seek.com.au/"
   ]
  },
  {
   "cell_type": "markdown",
   "metadata": {
    "tags": [
     "q1a;longtext;1"
    ]
   },
   "source": [
    "The purpose of SEEK proudct is to connect between job seekers and recruiter, this platform provide  job opportunites in many different categories across industries and tools for job seekers. For employers, SEEK can help with advertise job openings and find suitable candidates."
   ]
  },
  {
   "cell_type": "markdown",
   "metadata": {},
   "source": [
    "**Question 2:** <a id=\"q-sc1-q2\"></a>\n",
    "\n",
    "What are the three most significant characteristics of the target markets of SEEK Product?"
   ]
  },
  {
   "cell_type": "markdown",
   "metadata": {
    "tags": [
     "q1b;longtext;1"
    ]
   },
   "source": [
    "three most significant characteristics can be behavioral variables, demographic and geographic"
   ]
  },
  {
   "cell_type": "markdown",
   "metadata": {},
   "source": [
    "**Question 3:** <a id=\"q-sc1-q3\"></a>\n",
    "\n",
    "Name the components of a customer profile for a SEEK user and provide an example for each component."
   ]
  },
  {
   "cell_type": "markdown",
   "metadata": {},
   "source": []
  },
  {
   "cell_type": "markdown",
   "metadata": {},
   "source": [
    "\n",
    "| Priority | Answers|\n",
    "|-------|---------------|\n",
    "| Goals:     | Seek opportunitities that are suitable for their skills and knowledge|\n",
    "| Jobs:     | IT Job|\n",
    "| Pains:     |Customers maybe encounter the lack of skill gap which mean that their skills are outdated or insufficient for the roles they desire. |\n",
    "| Gains:     | Customers hope for the career adavancement that can lead to a better financial stability, life and career satisfaction|"
   ]
  },
  {
   "cell_type": "markdown",
   "metadata": {},
   "source": [
    "**Question 4:** <a id=\"q-sc1-q1\"></a>\n",
    "\n",
    "Name the components of a value proposition for a SEEK user and provide an example for each value proposition."
   ]
  },
  {
   "cell_type": "markdown",
   "metadata": {
    "tags": [
     "q1e;longtext;1"
    ]
   },
   "source": [
    "| Value Proposition | Answers|\n",
    "|-------|---------------|\n",
    "| Products and services:     | SEEK products and services including finding job that align with their needs. For companies, it help to advertise their buisness and in the future they can get more suitable employees.|\n",
    "| Pain Relievers:     | SEEK help user to spend less time to find their desirable roles and also their right employers through SEEK's search egine which have a bunch of services, for example it can show salaries or place or timetable that employers offer for|\n",
    "| Gain Creators:     | Through SEEK, customers can applied for their jobs that they desire for, and also in the future they can work in right place, and right time with right amount of money they receive|"
   ]
  },
  {
   "cell_type": "markdown",
   "metadata": {},
   "source": [
    "**Question 5:** <a id=\"q-sc1-q6\"></a>\n",
    "Describe an alternative product to the SEEK product. Include in your description the purpose of the product, the main target market and the value proposition."
   ]
  },
  {
   "cell_type": "markdown",
   "metadata": {},
   "source": [
    "Alternative product: Indeed\n",
    "Main target market: in all industries and all level experiencer. \n",
    "Value Proposition: \n",
    "products and services: offer comprehensive job listings and company reviews and insights share by current or old employees for better choice.\n",
    "pain relievers: provide easy searh engine for job for those who are feel overwhemled by the job search process \n",
    " gain creators: Job seekers can have a better understanding from cultural and expreience perspectives that future companies they desire to apply, so customers who using Indeed services can decide better options for them.\n"
   ]
  },
  {
   "cell_type": "markdown",
   "metadata": {},
   "source": [
    "**Question 6:** <a id=\"q-sc1-q6\"></a>\n",
    "\n",
    "What competitive advantage would SEEK have over your alternate product and what improvements could SEEK make based on the value proposition of the alternate product."
   ]
  },
  {
   "cell_type": "markdown",
   "metadata": {
    "tags": [
     "q1f;longtext;1"
    ]
   },
   "source": [
    "competitive advantage that SEEk have, its focus more on local buisnesses and in some countries, it can have a s†rong relation with local employers which will lead to more suitable location choices for job seekers."
   ]
  },
  {
   "cell_type": "markdown",
   "metadata": {},
   "source": [
    "**Question 7:** <a id=\"q-sc1-q7\"></a>\n",
    "\n",
    "Considering Pain Relievers and Gain Creators, how could the SEEK products and services be improved?"
   ]
  },
  {
   "cell_type": "markdown",
   "metadata": {},
   "source": [
    "\n",
    "| Pain Relievers:     | SEEK products and services can be improved by providing reviews for companies base on their former workers, it will help users to make better decisions about their workplace and their future employers|\n",
    "\n",
    "| Gain Creators:     | SEEK can be improved by expanding their career development resources through offering a wider range of online traing programs and certifications, similar to Indeed | "
   ]
  },
  {
   "cell_type": "markdown",
   "metadata": {},
   "source": [
    "| Considerations | Answers|\n",
    "|-------|---------------|\n",
    "| Pain Relievers:     | SEEK products and services can be improved by providing reviews for companies base on their former workers, it will help users to make better decisions about their workplace and their future employers|\n",
    "| Gain Creators:    | SSEEK can be improved by expanding their career development resources through offering a wider range of online traing programs and certifications, similar to Indeed|"
   ]
  },
  {
   "cell_type": "markdown",
   "metadata": {},
   "source": []
  },
  {
   "cell_type": "markdown",
   "metadata": {},
   "source": [
    "### Studio Class Work"
   ]
  },
  {
   "cell_type": "markdown",
   "metadata": {},
   "source": [
    "**Question 8: Step 1 - Purpose** <a id=\"q-sc1-q8\"></a>\n",
    "\n",
    "What is the purpose of your practice product in addressing the practice challenge?"
   ]
  },
  {
   "cell_type": "markdown",
   "metadata": {
    "tags": [
     "q1h;longtext;1"
    ]
   },
   "source": [
    "The purpose of my practice product in addressing the practice challenge is to help solve problems related to accommodation while also improving public security."
   ]
  },
  {
   "cell_type": "markdown",
   "metadata": {},
   "source": [
    "**Question 9: Step 2A - Target Market** <a id=\"q-sc1-q9\"></a>\n",
    "\n",
    "What are the most significant characteristics of your target market?"
   ]
  },
  {
   "cell_type": "markdown",
   "metadata": {
    "tags": [
     "q1i;longtext;1"
    ]
   },
   "source": [
    "the most significant characteristics of my target market is occupation which specifically is international student."
   ]
  },
  {
   "attachments": {},
   "cell_type": "markdown",
   "metadata": {},
   "source": [
    "**Question 10:** <a id=\"q-sc1-q10\"></a>\n",
    "\n",
    "Draw the market diagram for your target market.\n",
    "\n",
    "*Add your diagram below. To add your image:*\n",
    "1. *Find the image on your computer (Windows: File Exploer, Mac: Finder). Note the image can't have spaces in the filename*\n",
    "1. *\"Copy\" the image (Right-click on the image → Copy)*\n",
    "1. *\"Paste\" the image into the cell below (Double click to edit the cell → Right-click → Paste)*\n",
    "1. *If this is done correctly, you should see something of the form ``![image-name.png](attachment:image-name.png)``*\n",
    "1. *Please make sure to press the tick '✔️' on the cell containing the image to ensure the attachment is added*"
   ]
  },
  {
   "cell_type": "markdown",
   "metadata": {
    "tags": [
     "q1j;img;1"
    ]
   },
   "source": [
    "*My Diagram*"
   ]
  },
  {
   "cell_type": "markdown",
   "metadata": {},
   "source": [
    "**Question 11: Step 2B - Customer Profile** <a id=\"q-sc1-q11\"></a>\n",
    "\n",
    "Describe your customer profile in terms of their priority jobs, pains and gains."
   ]
  },
  {
   "cell_type": "markdown",
   "metadata": {
    "tags": [
     "q1k;longtext;1"
    ]
   },
   "source": [
    "| Priority | Answers|\n",
    "|-------|---------------|\n",
    "| Jobs:     | students who need to find accommudation and landlords who want to offer accommodations. |\n",
    "| Pains:     | students may encounter some problems, for instance, they cannot find accommdations, don't have enough money or maybe there is not enough information to find a right place. |\n",
    "| Gains:     | About landlord's benefits, they can increase their incomes because more students come to Victoria to find houses. Also, students can increase their level of satisfactions and long-term commitment with those accommodations that they have chosen. |"
   ]
  },
  {
   "cell_type": "markdown",
   "metadata": {},
   "source": [
    "**Question 12: - Step 3 Value Proposition** <a id=\"q-sc1-q12\"></a>\n",
    "\n",
    "Detail the value proposition.  \n",
    "What high priority jobs do the products/service help the user to do?\n",
    "What pain relievers are included in your value proposition?\n",
    "What gain creators are included in your value proposition?"
   ]
  },
  {
   "cell_type": "markdown",
   "metadata": {
    "tags": [
     "q1l;longtext;1"
    ]
   },
   "source": [
    "| Value Proposition | Answers|\n",
    "|-------|---------------|\n",
    "| Products/Services (Jobs):     | My practice product offers services to filter accommodations and find compatible roommates. It also displays information about a location and reviews from previous users who have already visited this place |\n",
    "| Pain Relievers:     | About students, it helps them by giving more accommodation information and enables them to find the most suitable places. About landlords, it helps them save valuable time and money by using our app instead of traditional methods like ads or posters, which cost a lot and are harder to attract more people to come to their places. |\n",
    "| Gain Creators:     | help landlords to improve their credibility thanks to review method that rating their accommodations based on user's experiences. in the result, they can actually raise their icomes. While students who use this service which shows them more information about their future places, can help promote students' accommodation satisfaction and long-term commitment. |"
   ]
  },
  {
   "attachments": {},
   "cell_type": "markdown",
   "metadata": {},
   "source": [
    "**Question 13:** <a id=\"q-sc1-q13\"></a>\n",
    "\n",
    "Draw the value proposition canvas based on your answers above.\n",
    "\n",
    "*Add your diagram below. To add your image:*\n",
    "1. *Find the image on your computer (Windows: File Exploer, Mac: Finder). Note the image can't have spaces in the filename*\n",
    "1. *\"Copy\" the image (Right-click on the image → Copy)*\n",
    "1. *\"Paste\" the image into the cell below (Double click to edit the cell → Right-click → Paste)*\n",
    "1. *If this is done correctly, you should see something of the form ``![image-name.png](attachment:image-name.png)``*\n",
    "1. *Please make sure to press the tick '✔️' on the cell containing the image to ensure the attachment is added*"
   ]
  },
  {
   "cell_type": "markdown",
   "metadata": {
    "tags": [
     "q1m;img;1"
    ]
   },
   "source": [
    "*My Diagram*"
   ]
  },
  {
   "cell_type": "markdown",
   "metadata": {},
   "source": [
    "**Question 14 - Step 4A Competitive Analysis:** <a id=\"q-sc1-q14\"></a>\n",
    "\n",
    "Identify and analyse one alternative your practice product."
   ]
  },
  {
   "cell_type": "markdown",
   "metadata": {
    "tags": [
     "q1n;longtext;1"
    ]
   },
   "source": [
    "|&nbsp;|\n",
    "|------|\n",
    "|What is the purpose of the alternative product? <br /> <br /> help users to find and rent house |\n",
    "|How does this purpose compare to the purpose you identified in Step 1. <br /><br /> it's almost the same, but our purpose are also help to improve public security. |\n",
    "|What are the characteristics of the target market and the customer profile of\n",
    "the alternative product? <br /><br /> Characteristics of the target market is someone who need to rent place to live. custom profile: family who need a place to live in a long time. they may encounter a problem like they cannot find suitable place or it is too expensive. |\n",
    "|How does this target market and customer profile compare to the target market and customer profile your identified in Steps 2a & 2b? <br /><br /> this target market is more widen, everyone and every age and every status can use this, compare to our target market and customer profile, which mostly is students who need place to live in Victoria.|\n",
    "|What value proposition is provided by the alternative product? <br /><br /> they offer multiple services include sorting price, place, etc, also it design to use by anyone. |\n",
    "|What lessons could your draw from this alternative product to improve your practice product?<br /><br /> this alternative product provide more user friendly website and service that even elders can easily to use it, it can help our product to focus more on user experience.  |\n",
    "|How would you improve the value proposition you identified in step 3?<br /><br /> I would improve the value proposition based on focus more on user experience, which will mostly design for student to use.  |\n",
    "|How would you better design, develop, and implement a prototype of your own practice product idea?<br /><br /> I would go through different stages, firstly, design, develop and then test our basic product with our potential customers, and then redo it until meet what customer need. |\n"
   ]
  },
  {
   "cell_type": "markdown",
   "metadata": {},
   "source": [
    "**Question 15 - Step 4B Competitive Advantage:** <a id=\"q-sc1-q15\"></a>\n",
    "\n",
    "List the advantages of your Practice Product Idea over the alternative product that you identified."
   ]
  },
  {
   "cell_type": "markdown",
   "metadata": {
    "tags": [
     "q1o;longtext;1"
    ]
   },
   "source": [
    "our practice product is focus more on one type of customer and have soem sorting function like finding roomate, view rating from previous customers and etc. This will potentially improve better experience for potential customers."
   ]
  },
  {
   "cell_type": "markdown",
   "metadata": {},
   "source": [
    "**Question 16 - Step 5 Verify or Pivot:** <a id=\"q-sc1-q16\"></a>\n",
    "\n",
    "List the advantages of your Practice Product Idea over the alternative product that you identified."
   ]
  },
  {
   "cell_type": "markdown",
   "metadata": {
    "tags": [
     "q1p;longtext;1"
    ]
   },
   "source": [
    "\n",
    "|&nbsp;|\n",
    "|------|\n",
    "|How can the products and services included in your value proposition be improved?<br /> <br />*My answer* |\n",
    "|How can the pain relievers included in your value proposition be improved?<br /> <br />*My answer* |\n",
    "|How can the gain creators included in your value proposition be improved?<br /> <br />*My answer* |\n"
   ]
  },
  {
   "cell_type": "markdown",
   "metadata": {},
   "source": [
    "<style>\n",
    "h2 {\n",
    "   text-align: center;\n",
    "}\n",
    "hr {\n",
    "  border: none;\n",
    "  border-top: 6px ridge #C864C8;\n",
    "}\n",
    "</style>\n",
    "___\n",
    "\n",
    "## Studio Class 2: Personas <a id=\"q2\"></a>\n",
    "\n",
    "### Preparation Activities"
   ]
  },
  {
   "cell_type": "markdown",
   "metadata": {},
   "source": [
    "**Question 1:** <a id=\"q-sc2-q1\"></a>\n",
    "Why is User Centred Design important?"
   ]
  },
  {
   "cell_type": "markdown",
   "metadata": {
    "tags": [
     "q2a;longtext;1"
    ]
   },
   "source": [
    "User Centered Design help you to add more emotional impact to products, which mean they will love your product more because it meet their true need."
   ]
  },
  {
   "cell_type": "markdown",
   "metadata": {},
   "source": [
    "**Question 2:** <a id=\"q-sc2-q2\"></a>\n",
    "What are users bad at expressing?"
   ]
  },
  {
   "cell_type": "markdown",
   "metadata": {
    "tags": [
     "q2b;longtext;1"
    ]
   },
   "source": [
    "users can be bad at describing and even understanding what they actually need."
   ]
  },
  {
   "cell_type": "markdown",
   "metadata": {},
   "source": [
    "**Question 3:** <a id=\"q-sc2-q3\"></a>\n",
    "How should we go about observing users?"
   ]
  },
  {
   "cell_type": "markdown",
   "metadata": {
    "tags": [
     "q2c;longtext;1"
    ]
   },
   "source": [
    "-planning your observations carefully.\n",
    "- you should approach at least 3 visits for each target user type that you need and at least 5 visits in total.\n",
    "- if you can, watch users from their own location, if cannot, you should at users to bring their relevant things with them to your locations. And if you cannot observe, focus on more behavioral interview, ask more about their past to know their true behaviors."
   ]
  },
  {
   "cell_type": "markdown",
   "metadata": {},
   "source": [
    "**Question 4:** <a id=\"q-sc2-q4\"></a>\n",
    "Why should we put down Direct Quotes from users?"
   ]
  },
  {
   "cell_type": "markdown",
   "metadata": {},
   "source": [
    "because direct quotes is what the users said, and they will interpret the most informations about their need and their behaviors."
   ]
  },
  {
   "cell_type": "markdown",
   "metadata": {},
   "source": [
    "**Question 5:** <a id=\"q-sc2-q5\"></a>\n",
    "What are the purpose of the following elements of an Experience Map?"
   ]
  },
  {
   "cell_type": "markdown",
   "metadata": {
    "tags": [
     "q2e;longtext;1"
    ]
   },
   "source": [
    "|Element|Answer|\n",
    "|-------|------|\n",
    "|Task| describe the task that the group of observations refer to |\n",
    "|Activity| desscribe a set of green tasks.|"
   ]
  },
  {
   "cell_type": "markdown",
   "metadata": {},
   "source": [
    "**Question 6:** <a id=\"q-sc2-q6\"></a>\n",
    "After completing an experience map, what 2 things should we gather?"
   ]
  },
  {
   "cell_type": "markdown",
   "metadata": {
    "tags": [
     "q2f;longtext;1"
    ]
   },
   "source": [
    "two things we should gather that is indentify pain points and set goals of what we need to fix"
   ]
  },
  {
   "cell_type": "markdown",
   "metadata": {},
   "source": [
    "**Question 7:** <a id=\"q-sc2-q7\"></a>\n",
    "What are the purpose of the following elements of an Experience Map?List the elements of a Persona"
   ]
  },
  {
   "cell_type": "markdown",
   "metadata": {
    "tags": [
     "q2g;longtext;1"
    ]
   },
   "source": [
    "\n",
    "*My Answer*"
   ]
  },
  {
   "cell_type": "markdown",
   "metadata": {},
   "source": [
    "### Studio Class Work"
   ]
  },
  {
   "attachments": {},
   "cell_type": "markdown",
   "metadata": {},
   "source": [
    "**Question 8: Activity:** <a id=\"q-sc2-q8\"></a>\n",
    "My groups experience map\n",
    "\n",
    "*Add your diagram below. To add your image:*\n",
    "1. *Find the image on your computer (Windows: File Exploer, Mac: Finder). Note the image can't have spaces in the filename*\n",
    "1. *\"Copy\" the image (Right-click on the image → Copy)*\n",
    "1. *\"Paste\" the image into the cell below (Double click to edit the cell → Right-click → Paste)*\n",
    "1. *If this is done correctly, you should see something of the form ``![image-name.png](attachment:image-name.png)``*\n",
    "1. *Please make sure to press the tick '✔️' on the cell containing the image to ensure the attachment is added*"
   ]
  },
  {
   "cell_type": "markdown",
   "metadata": {
    "tags": [
     "q2h;img;1.0"
    ]
   },
   "source": [
    "*My Image*"
   ]
  },
  {
   "cell_type": "markdown",
   "metadata": {},
   "source": []
  },
  {
   "cell_type": "markdown",
   "metadata": {},
   "source": [
    "**Question 9:** <a id=\"q-sc2-q9\"></a>\n",
    "Write a 1-sentence statement to describe each stage of the User Centred Design Process."
   ]
  },
  {
   "cell_type": "markdown",
   "metadata": {},
   "source": []
  },
  {
   "cell_type": "markdown",
   "metadata": {
    "tags": [
     "q2i;longtext;1"
    ]
   },
   "source": [
    "\n",
    "| Stage | Description |\n",
    "|-------|-------------|\n",
    "| User Data | *My answer* |\n",
    "| Pain Points & Goals | *My answer* |\n",
    "| Personas | *My answer* |\n",
    "| Ideation | *My answer* |\n",
    "| Scenarios & Storyboarding | *My answer* |\n",
    "| Prototyping & Building | *My answer* |"
   ]
  },
  {
   "cell_type": "markdown",
   "metadata": {},
   "source": [
    "**Question 10: Activity:** <a id=\"q-sc2-q10\"></a>\n",
    "Your group's Australia Post Personas"
   ]
  },
  {
   "cell_type": "markdown",
   "metadata": {
    "tags": [
     "q2j;longtext;1"
    ]
   },
   "source": [
    "\n",
    "*My answer*"
   ]
  },
  {
   "cell_type": "markdown",
   "metadata": {},
   "source": [
    "<style>\n",
    "h2 {\n",
    "   text-align: center;\n",
    "}\n",
    "hr {\n",
    "  border: none;\n",
    "  border-top: 6px ridge #C864C8;\n",
    "}\n",
    "</style>\n",
    "___\n",
    "\n",
    "## Studio Class 3: Ideation & Design Principles\n",
    "\n",
    "### Preparation Activities"
   ]
  },
  {
   "cell_type": "markdown",
   "metadata": {},
   "source": [
    "**Question 1:** <a id=\"q-sc3-q1\"></a>\n",
    "What problem is ideation intended to prevent?"
   ]
  },
  {
   "cell_type": "markdown",
   "metadata": {
    "tags": [
     "q3a;longtext;1.0"
    ]
   },
   "source": [
    "ideation intened to prevent the group think problem"
   ]
  },
  {
   "cell_type": "markdown",
   "metadata": {},
   "source": [
    "**Question 2:**  <a id=\"q-sc3-q2\"></a>\n",
    "Describe each of the 5 stages of the design charrette ideation technique in 1\n",
    "sentence."
   ]
  },
  {
   "cell_type": "markdown",
   "metadata": {
    "tags": [
     "q3b;longtext;1"
    ]
   },
   "source": [
    "\n",
    "| Stage Name | Description |\n",
    "|------------|-------------|\n",
    "| *Stage 1* | review the problem statement and user research as a team |\n",
    "| *Stage 2* | sketch your product solution ideas |\n",
    "| *Stage 3* | critque each design idea| \n",
    "| *Stage 4* | work in pair to refine each other ideas |\n",
    "| *Stage 5* | make group again and choose best design to make final decision |"
   ]
  },
  {
   "cell_type": "markdown",
   "metadata": {},
   "source": [
    "**Activity:** List the 10 Nielsen Design Heuristics in the studio work section of your portfolio\n",
    "below. You will fill in the other columns during class.\n"
   ]
  },
  {
   "attachments": {},
   "cell_type": "markdown",
   "metadata": {},
   "source": [
    "**Question 3:** Choose 3 Nielsen design heuristics. Then take screenshots of websites with a good or bad examples of your chosen Nielsen design heuristics. Include the images below each section.\n",
    "\n",
    "*Add your diagram below. To add your image:*\n",
    "1. *Find the image on your computer (Windows: File Exploer, Mac: Finder). Note the image can't have spaces in the filename*\n",
    "1. *\"Copy\" the image (Right-click on the image → Copy)*\n",
    "1. *\"Paste\" the image into the cell below (Double click to edit the cell → Right-click → Paste)*\n",
    "1. *If this is done correctly, you should see something of the form ``![image-name.png](attachment:image-name.png)``*\n",
    "1. *Please make sure to press the tick '✔️' on the cell containing the image to ensure the attachment is added*"
   ]
  },
  {
   "cell_type": "markdown",
   "metadata": {},
   "source": [
    "**Heuristic #1, Good example**  <a id=\"q-sc3-q3\"></a>"
   ]
  },
  {
   "cell_type": "markdown",
   "metadata": {
    "tags": [
     "q3c;img;1.0"
    ]
   },
   "source": [
    "*My Diagram*"
   ]
  },
  {
   "cell_type": "markdown",
   "metadata": {},
   "source": [
    "**Heuristic #1, Bad example**  <a id=\"q-sc3-q4\"></a>"
   ]
  },
  {
   "cell_type": "markdown",
   "metadata": {},
   "source": []
  },
  {
   "cell_type": "markdown",
   "metadata": {
    "tags": [
     "q3d;img;1"
    ]
   },
   "source": [
    "*My Diagram*"
   ]
  },
  {
   "cell_type": "markdown",
   "metadata": {},
   "source": [
    "**Heuristic #2, Good example**  <a id=\"q-sc3-q5\"></a>"
   ]
  },
  {
   "cell_type": "markdown",
   "metadata": {
    "tags": [
     "q3e;img;1"
    ]
   },
   "source": [
    "*My Diagram*"
   ]
  },
  {
   "cell_type": "markdown",
   "metadata": {},
   "source": [
    "**Heuristic #2, Bad example**  <a id=\"q-sc3-q6\"></a>"
   ]
  },
  {
   "cell_type": "markdown",
   "metadata": {
    "tags": [
     "q3f;img;1"
    ]
   },
   "source": [
    "*My Diagram*"
   ]
  },
  {
   "cell_type": "markdown",
   "metadata": {},
   "source": [
    "### Studio Class Work"
   ]
  },
  {
   "cell_type": "markdown",
   "metadata": {},
   "source": [
    "**Question 7:**  <a id=\"q-sc3-q7\"></a>\n",
    "My Individual Trading Goods Website Personas Persona"
   ]
  },
  {
   "cell_type": "markdown",
   "metadata": {
    "tags": [
     "q3g;longtext;1"
    ]
   },
   "source": [
    "RENTER\n",
    "Name: Peter\n",
    "Background:\n",
    " -status: 40 years old, single\n",
    " -Ceo of small business( in food industry)\n",
    " - language: can use English, Italy, spanish\n",
    " - average income: 100.000$/ month\n",
    "Goals and needs: \n",
    "  -need to rent temporary and multiple places for his buisness to widen his business. \n",
    "  -condition: \n",
    "    + it should be in a good place that people often come and stay in, mostly in an urban.\n",
    "Skills and experience levels:\n",
    "  -expertise in marketing, communication and business related to food industry.\n",
    "  -often come here and come there, communicate with people daily."
   ]
  },
  {
   "cell_type": "markdown",
   "metadata": {},
   "source": [
    "**Question 8:** <a id=\"q-sc3-q8\"></a>\n",
    "Breakout Group's Trading Goods Website Personas Persona #1"
   ]
  },
  {
   "cell_type": "markdown",
   "metadata": {
    "tags": [
     "q3h;longtext;1"
    ]
   },
   "source": [
    "Name:Jacky Do\n",
    "\n",
    "Attributes\n",
    "\n",
    "-Background\n",
    "    - Occupation: IT Web developer\n",
    "    - Experienced level in the field of our product: No experience\n",
    "-Demographics\n",
    "    - Female, Single\n",
    "    - Age: 25\n",
    "    - Location: Melbourne\n",
    "    - Average income: $5000/months\n",
    "    - Language: English / Vietnamese\n",
    "\n",
    "Goals:\n",
    "\n",
    "- Speed:  Want to quickly search for an old laptop which is suitable to her job demands\n",
    "- Efficiency: The laptop has the best quality with an affordable price around $2000.\n",
    "- Accuracy:\n",
    "- Visual (looking good): It is a gaming laptop\n",
    "\n",
    "Skills and experience level\n",
    "\n",
    "- Use laptop daily for jobs and entertainments.\n",
    "- Always go outside to work, maybe office, coffee stores.\n",
    "- Usually working alone, expect collaborating hours.\n",
    "- Travelling usually due to job demands.\n",
    "\n",
    "Concerns:\n",
    "\n",
    "- The component of the laptop is suitable with his jobs (he usually analyst data)\n",
    "- The laptop can help him to entertain.\n",
    "- \n",
    "\n",
    "- They choose or a part of their work?\n",
    "- Using frequency\n",
    "- Individual use or team/group use?\n",
    "- Use product on mobile or PC?\n",
    "- What makes them use our product? - their concerns\n"
   ]
  },
  {
   "cell_type": "markdown",
   "metadata": {},
   "source": [
    "**Question 9:**  <a id=\"q-sc3-q9\"></a>\n",
    "Breakout Group's Trading Goods Website Personas Persona #2"
   ]
  },
  {
   "cell_type": "markdown",
   "metadata": {
    "tags": [
     "q3i;longtext;1"
    ]
   },
   "source": [
    "Name: Thomas Shelby\n",
    "\n",
    "“I am finding more potential customers.”\n",
    "\n",
    "Attributes/Background:*\n",
    "\n",
    "- 30 years old\n",
    "- Single\n",
    "- *Is a realtor\n",
    "- *Recently moved across the country for career reasons*\n",
    "\n",
    "Needs and Goals:\n",
    "\n",
    "- Seeking user-friendly online platforms to list and sell her property.\n",
    "- A straightforward and efficient online selling process that aligns with her busy schedule.\n",
    "- A quick and hassle-free online selling process that accommodates her busy work.\n",
    "\n",
    "Skill & experience levels:\n",
    "\n",
    "- Expertise lies in marketing.\n",
    "- Tech-savvy, comfortable with digital platforms.\n",
    "- A seasoned professional with over 15 years of experience."
   ]
  },
  {
   "cell_type": "markdown",
   "metadata": {},
   "source": [
    "**Question 10:** <a id=\"q-sc3-q10\"></a>\n",
    "Breakout Group's Trading Goods Website Personas Persona #3"
   ]
  },
  {
   "cell_type": "markdown",
   "metadata": {
    "tags": [
     "q3j;longtext;1"
    ]
   },
   "source": [
    "Name:Ho Dinh Gia Bao\n",
    "\n",
    "\"I'm searching for a hassle-free way to learn Vietnamese and reconnect with my heritage.\"\n",
    "\n",
    "Background:\n",
    "\n",
    "50 years old, retiree saler\n",
    "\n",
    "Grew up in a Vietnamese household but has limited language skills Based in Australia\n",
    "\n",
    "Attributes:\n",
    "\n",
    "Artistic soul, drawn to visually appealing experiences.\n",
    "\n",
    "Limited proficiency in Vietnamese.\n",
    "\n",
    "Retiree, living with his mom\n",
    "\n",
    "Needs and Goals:\n",
    "User-friendly language learning platform\n",
    "\n",
    "Visual learning materials (contains: images, videos, interactive content)\n",
    "\n",
    "Flexibility in class schedules to accommodate a busy lifestyle (he often spent time meeting his girlfriend)\n",
    "\n",
    "Skill & Experience Levels:\n",
    "\n",
    "*Daily computer use for entertain and communication*\n",
    "\n",
    "*Rarely goes to the gym, prefers a flexible and stress-free learning experience*"
   ]
  },
  {
   "cell_type": "markdown",
   "metadata": {},
   "source": [
    "**Question 11:**  <a id=\"q-sc3-q11\"></a>\n",
    "Nielsen Design Heuristics\n",
    "Complete the table below with a description and example of each Nielsen Design Heuristics"
   ]
  },
  {
   "cell_type": "markdown",
   "metadata": {
    "tags": [
     "q3k;longtext;1"
    ]
   },
   "source": [
    "\n",
    "|  | Heuristic | Name | Description Example | \n",
    "|--|-----------|------|---------------------|\n",
    "|1 | | | |\n",
    "|2 | | | |\n",
    "|3 | | | |\n",
    "|4 | | | |\n",
    "|5 | | | |\n",
    "|6 | | | |\n",
    "|7 | | | |\n",
    "|8 | | | |\n",
    "|9 | | | |\n",
    "|10| | | |\n"
   ]
  },
  {
   "cell_type": "markdown",
   "metadata": {},
   "source": [
    "**Question 12:**  <a id=\"q-sc3-q12\"></a>\n",
    "Individual Ideation"
   ]
  },
  {
   "cell_type": "markdown",
   "metadata": {
    "tags": [
     "q3l;longtext;1"
    ]
   },
   "source": [
    "Persona: *My Chosen Persona*\n",
    "\n",
    "Issue(s): *My Chosen Issue*"
   ]
  },
  {
   "cell_type": "markdown",
   "metadata": {
    "tags": [
     "q3m;img;1"
    ]
   },
   "source": [
    "*Diagram of my Ideation*"
   ]
  },
  {
   "cell_type": "markdown",
   "metadata": {},
   "source": [
    "<style>\n",
    "h2 {\n",
    "   text-align: center;\n",
    "}\n",
    "hr {\n",
    "  border: none;\n",
    "  border-top: 6px ridge #C864C8;\n",
    "}\n",
    "</style>\n",
    "___\n",
    "\n",
    "## Studio Class 4: Design Patterns\n",
    "\n",
    "### Preparation Activities"
   ]
  },
  {
   "cell_type": "markdown",
   "metadata": {},
   "source": [
    "**Question 1:** <a id=\"q-sc4-q1\"></a>\n",
    " What are 3 advantages of using Design Patterns?"
   ]
  },
  {
   "cell_type": "markdown",
   "metadata": {
    "tags": [
     "q4a;longtext;1"
    ]
   },
   "source": [
    "\n",
    "*My Answer*"
   ]
  },
  {
   "attachments": {},
   "cell_type": "markdown",
   "metadata": {},
   "source": [
    "**Question 2:**<a id=\"q-sc4-q2\"></a>\n",
    "Create a simple wireframe diagram of a User Interface for a website that makes use of the Home Link (or Escape Hatch) Design Pattern.\n",
    "\n",
    "*Add your diagram below. To add your image:*\n",
    "1. *Find the image on your computer (Windows: File Exploer, Mac: Finder). Note the image can't have spaces in the filename*\n",
    "1. *\"Copy\" the image (Right-click on the image → Copy)*\n",
    "1. *\"Paste\" the image into the cell below (Double click to edit the cell → Right-click → Paste)*\n",
    "1. *If this is done correctly, you should see something of the form ``![image-name.png](attachment:image-name.png)``*\n",
    "1. *Please make sure to press the tick '✔️' on the cell containing the image to ensure the attachment is added*"
   ]
  },
  {
   "cell_type": "markdown",
   "metadata": {
    "tags": [
     "q4b;img;1"
    ]
   },
   "source": [
    "*My Wireframe Diagram*"
   ]
  },
  {
   "cell_type": "markdown",
   "metadata": {},
   "source": [
    "**Question 3:** <a id=\"q-sc4-q3\"></a>\n",
    "Write a 1 sentence description for following navigation models."
   ]
  },
  {
   "cell_type": "markdown",
   "metadata": {
    "tags": [
     "q4c;longtext;1"
    ]
   },
   "source": [
    "\n",
    "| Navigation model | Answer |\n",
    "|------------------|--------|\n",
    "| Global Navigation | *My Answer* |\n",
    "| Hub and Spoke | *My Answer* |\n",
    "| Fully Connected | *My Answer* |\n",
    "| Multi-Level | *My Answer* |\n",
    "| Clear entry points | *My Answer* |\n",
    "| Escape Hatch | *My Answer* |"
   ]
  },
  {
   "cell_type": "markdown",
   "metadata": {},
   "source": [
    "**Question 4:** <a id=\"q-sc4-q4\"></a>\n",
    "List the types of Navigation Models that could be implemented using Fat Menu design pattern"
   ]
  },
  {
   "cell_type": "markdown",
   "metadata": {
    "tags": [
     "q4d;longtext;1.0"
    ]
   },
   "source": [
    "\n",
    "*My Answer*"
   ]
  },
  {
   "cell_type": "markdown",
   "metadata": {},
   "source": [
    "**Question 5:** <a id=\"q-sc4-q5\"></a>\n",
    "Why is Visual Flow important for Page Layout?"
   ]
  },
  {
   "cell_type": "markdown",
   "metadata": {
    "tags": [
     "q4e;longtext;1"
    ]
   },
   "source": [
    "\n",
    "*My Answer*"
   ]
  },
  {
   "cell_type": "markdown",
   "metadata": {},
   "source": [
    "**Question 6:** <a id=\"q-sc4-q6\"></a>\n",
    "List the Interaction forms are relevant to designing a website UI"
   ]
  },
  {
   "cell_type": "markdown",
   "metadata": {
    "tags": [
     "q4f;longtext;1"
    ]
   },
   "source": [
    "\n",
    "*My Answer*"
   ]
  },
  {
   "cell_type": "markdown",
   "metadata": {},
   "source": [
    "### Studio Class Work"
   ]
  },
  {
   "attachments": {},
   "cell_type": "markdown",
   "metadata": {},
   "source": [
    "**Question 7:** <a id=\"q-sc4-q7\"></a>\n",
    "Card Sorting photo/screenshot.\n",
    "\n",
    "*Add your diagram below. To add your image:*\n",
    "1. *Find the image on your computer (Windows: File Exploer, Mac: Finder). Note the image can't have spaces in the filename*\n",
    "1. *\"Copy\" the image (Right-click on the image → Copy)*\n",
    "1. *\"Paste\" the image into the cell below (Double click to edit the cell → Right-click → Paste)*\n",
    "1. *If this is done correctly, you should see something of the form ``![image-name.png](attachment:image-name.png)``*\n",
    "1. *Please make sure to press the tick '✔️' on the cell containing the image to ensure the attachment is added*"
   ]
  },
  {
   "cell_type": "markdown",
   "metadata": {
    "tags": [
     "q4g;img;1.0"
    ]
   },
   "source": [
    "*My group's work*"
   ]
  },
  {
   "cell_type": "markdown",
   "metadata": {},
   "source": [
    "**Question 8:** <a id=\"q-sc4-q8\"></a>(Navigation Design Patterns) For each type of navigation mode, write down if it is suitable for your card sorting categories along with a 1 sentence justification."
   ]
  },
  {
   "cell_type": "markdown",
   "metadata": {
    "tags": [
     "q4h;longtext;1"
    ]
   },
   "source": [
    "\n",
    "\n",
    "| Navigation Design Pattern | Answer |\n",
    "|---------------------------|--------|\n",
    "| Global Navigation | *My Answer* |\n",
    "| Hub and Spoke | *My Answer* |\n",
    "| Fully Connected | *My Answer* |\n",
    "| Multi-Level | *My Answer* |\n",
    "| Clear entry points | *My Answer* |\n",
    "| Escape Hatch | *My Answer* |"
   ]
  },
  {
   "cell_type": "markdown",
   "metadata": {},
   "source": [
    "**Question 9:** <a id=\"q-sc4-q9\"></a>Navigation Design Pattern(s) photo/screenshot"
   ]
  },
  {
   "cell_type": "markdown",
   "metadata": {
    "tags": [
     "q4i;img;1"
    ]
   },
   "source": [
    "*My group's work*"
   ]
  },
  {
   "cell_type": "markdown",
   "metadata": {},
   "source": [
    "**Question 10:** <a id=\"q-sc4-q10\"></a>Page Layout Design Pattern(s) photo/screenshot"
   ]
  },
  {
   "cell_type": "markdown",
   "metadata": {
    "tags": [
     "q4j;img;1"
    ]
   },
   "source": [
    "*My group's work*"
   ]
  },
  {
   "cell_type": "markdown",
   "metadata": {},
   "source": [
    "**Question 11:** <a id=\"q-sc4-q11\"></a>\n",
    "Interaction Design Pattern(s) photo/screenshot"
   ]
  },
  {
   "cell_type": "markdown",
   "metadata": {
    "tags": [
     "q4k;img;1"
    ]
   },
   "source": [
    "*My group's work*"
   ]
  },
  {
   "cell_type": "markdown",
   "metadata": {},
   "source": [
    "**Question 12:** <a id=\"q-sc4-q12\"></a>\n",
    "Re-evaluating your Ideation of the Goods Trading Website."
   ]
  },
  {
   "cell_type": "markdown",
   "metadata": {
    "tags": [
     "q4l;img;1"
    ]
   },
   "source": [
    "*My updated ideation of the Goods Trading Website*"
   ]
  },
  {
   "cell_type": "markdown",
   "metadata": {},
   "source": [
    "**Question 13:** <a id=\"q-sc4-q13\"></a>\n",
    "A description of the design pattern you identified that could be \"more effectively used\":"
   ]
  },
  {
   "cell_type": "markdown",
   "metadata": {
    "tags": [
     "q4m;longtext;1"
    ]
   },
   "source": [
    "\n",
    "*My Answer*"
   ]
  },
  {
   "cell_type": "markdown",
   "metadata": {},
   "source": [
    "**Question 14:** <a id=\"q-sc4-q14\"></a>\n",
    "A description of the design pattern you identified that \"would be effective to use\":"
   ]
  },
  {
   "cell_type": "markdown",
   "metadata": {
    "tags": [
     "q4n;longtext;1"
    ]
   },
   "source": [
    "\n",
    "*My Answer*"
   ]
  }
 ],
 "metadata": {
  "celltoolbar": "Tags",
  "kernelspec": {
   "display_name": "Python 3 (ipykernel)",
   "language": "python",
   "name": "python3"
  },
  "language_info": {
   "codemirror_mode": {
    "name": "ipython",
    "version": 3
   },
   "file_extension": ".py",
   "mimetype": "text/x-python",
   "name": "python",
   "nbconvert_exporter": "python",
   "pygments_lexer": "ipython3",
   "version": "3.10.11"
  },
  "vscode": {
   "interpreter": {
    "hash": "054c096e4d4b57417bb781656d4f5218b0e3c2d49c7047d1ff7347fb636be8e8"
   }
  }
 },
 "nbformat": 4,
 "nbformat_minor": 2
}
